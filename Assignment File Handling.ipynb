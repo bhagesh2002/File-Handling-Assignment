{
 "cells": [
  {
   "cell_type": "markdown",
   "id": "b0538393-fc98-42cf-a24f-ae09afd1d81c",
   "metadata": {},
   "source": [
    "## ASSIGNMENT FILE HANDLING"
   ]
  },
  {
   "cell_type": "code",
   "execution_count": null,
   "id": "26f1bf95-9b66-46fc-9b14-bdac47a24984",
   "metadata": {},
   "outputs": [],
   "source": []
  },
  {
   "cell_type": "markdown",
   "id": "7fdf104a-20af-4e81-82ce-d4e547d0f203",
   "metadata": {},
   "source": [
    "## Q1. Discuss the scenarios where multithreading is preferable to multiprocessing and scenarios where\n",
    "multiprocessing is a better choice."
   ]
  },
  {
   "cell_type": "markdown",
   "id": "b0839823-033d-4c2a-8aab-bfe1461b5355",
   "metadata": {},
   "source": [
    "Summary\n",
    "\n",
    "* Multithreading is better for I/O-bound tasks, situations requiring shared memory, lightweight tasks, and maintaining \n",
    "  responsive GUIs.\n",
    "* Multiprocessing is better for CPU-bound tasks, scenarios needing isolation and fault tolerance, parallel processing, and       long-running processes.\n",
    "\n",
    "The choice between multithreading and multiprocessing ultimately depends on the nature of the tasks you’re trying to           accomplish and the specific needs of your application."
   ]
  },
  {
   "cell_type": "markdown",
   "id": "48f06b22-ed3f-46f0-ba09-54a6b549eaf3",
   "metadata": {},
   "source": [
    "## 2. Describe what a process pool is and how it helps in managing multiple processes efficiently."
   ]
  },
  {
   "cell_type": "markdown",
   "id": "5a376716-b89d-46f6-a311-fbd9c8452573",
   "metadata": {},
   "source": [
    "*) A process pool is an efficient way to manage multiple processes by maintaining a fixed number of worker processes that handle multiple tasks. It reduces process creation overhead, balances workloads, and ensures optimal resource utilization, making it ideal for parallel processing in systems with limited resources.\n",
    "\n",
    "*) How a Process Pool Helps in Managing Processes Efficiently:\n",
    "\n",
    "1) Reduced Process Creation Overhead: Creating processes is costly in terms of system resources. A process pool minimizes    this overhead by maintaining a fixed number of reusable processes, rather than creating and destroying processes       \n",
    "   dynamically for every task.\n",
    "\n",
    "2) Load Balancing: The pool helps distribute tasks evenly across processes, ensuring that no worker is overloaded while \n",
    "   others remain idle. This results in better load balancing and faster execution of tasks.\n",
    "\n",
    "3) Efficient Resource Utilization: Since the number of processes in the pool is fixed, a process pool ensures that system    resources (like CPU and memory) are not exhausted by an excessive number of processes. This allows for more        \n",
    "   predictable and stable performance, especially in systems with limited resources."
   ]
  },
  {
   "cell_type": "markdown",
   "id": "e46dd619-09a2-481e-bffd-b500a8472e5f",
   "metadata": {},
   "source": [
    "## 3. Explain what multiprocessing is and why it is used in Python programs."
   ]
  },
  {
   "cell_type": "markdown",
   "id": "982fd51d-d995-4160-87f8-2ac472d29415",
   "metadata": {},
   "source": [
    "*) Multiprocessing is a technique in Python that allows running multiple independent processes in parallel, each with its own memory space and Python interpreter instance. It is primarily used to overcome the limitations of the Global Interpreter Lock (GIL) in CPython, enabling true parallel execution for CPU-bound tasks.\n",
    "\n",
    "*) Key Reasons to Use Multiprocessing:\n",
    "\n",
    "1) Bypasses the GIL: Allows processes to run in parallel without being blocked by the GIL, unlike multithreading.\n",
    "   Utilizes Multiple CPU Cores: Distributes tasks across multiple cores for faster execution, particularly for \n",
    "   computationally intensive tasks like scientific computing, data processing, and machine learning.\n",
    "\n",
    "2) Fault Isolation: Processes are independent, so if one fails, it doesn't affect others.\n",
    "   Efficient Task Management: The multiprocessing module provides tools like process pools, queues, and shared memory for    task distribution and communication between processes.\n",
    "\n",
    "*) Use Cases:\n",
    "\n",
    "1) Data-intensive workflows (e.g., large datasets, ETL jobs)\n",
    "2) Scientific calculations and simulations\n",
    "3) Parallel web scraping\n",
    "4) Machine learning model training\n",
    "5) Multiprocessing improves performance by leveraging multiple cores and parallelizing resource-heavy tasks."
   ]
  },
  {
   "cell_type": "markdown",
   "id": "a97696b7-cdfd-45c0-a127-7d2bf7db4e32",
   "metadata": {},
   "source": [
    "## 4. Write a Python program using multithreading where one thread adds numbers to a list, and anotherthread removes numbers from the list. Implement a mechanism to avoid race conditions using threading.Lock."
   ]
  },
  {
   "cell_type": "code",
   "execution_count": 1,
   "id": "88e917cf-b926-4713-9afd-efbd05fe172c",
   "metadata": {},
   "outputs": [
    {
     "name": "stdout",
     "output_type": "stream",
     "text": [
      "Added 97 to the list.\n",
      "Removed 97 from the list.\n",
      "List is empty, nothing to remove.\n",
      "Added 30 to the list.\n",
      "Added 41 to the list.\n",
      "Removed 30 from the list.\n",
      "Removed 41 from the list.\n",
      "Added 92 to the list.\n",
      "Removed 92 from the list.\n",
      "Added 22 to the list.\n",
      "Removed 22 from the list.\n",
      "Added 80 to the list.\n",
      "Added 92 to the list.\n",
      "Added 41 to the list.\n",
      "Removed 80 from the list.\n",
      "Removed 92 from the list.\n",
      "Added 70 to the list.\n",
      "Added 15 to the list.\n",
      "Removed 41 from the list.\n",
      "Removed 70 from the list.\n",
      "Final list: [15]\n"
     ]
    }
   ],
   "source": [
    "import threading\n",
    "import time\n",
    "import random\n",
    "\n",
    "# Shared list\n",
    "shared_list = []\n",
    "\n",
    "# Create a lock object\n",
    "list_lock = threading.Lock()\n",
    "\n",
    "# Function for adding numbers to the list\n",
    "def add_numbers():\n",
    "    for i in range(10):\n",
    "        with list_lock:  # Acquire the lock\n",
    "            num = random.randint(1, 100)\n",
    "            shared_list.append(num)\n",
    "            print(f\"Added {num} to the list.\")\n",
    "        time.sleep(random.uniform(0.1, 0.5))  # Simulate some processing time\n",
    "\n",
    "# Function for removing numbers from the list\n",
    "def remove_numbers():\n",
    "    for i in range(10):\n",
    "        with list_lock:  # Acquire the lock\n",
    "            if shared_list:\n",
    "                num = shared_list.pop(0)\n",
    "                print(f\"Removed {num} from the list.\")\n",
    "            else:\n",
    "                print(\"List is empty, nothing to remove.\")\n",
    "        time.sleep(random.uniform(0.1, 0.5))  # Simulate some processing time\n",
    "\n",
    "# Create the threads\n",
    "adder_thread = threading.Thread(target=add_numbers)\n",
    "remover_thread = threading.Thread(target=remove_numbers)\n",
    "\n",
    "# Start the threads\n",
    "adder_thread.start()\n",
    "remover_thread.start()\n",
    "\n",
    "# Wait for both threads to complete\n",
    "adder_thread.join()\n",
    "remover_thread.join()\n",
    "\n",
    "print(\"Final list:\", shared_list)\n"
   ]
  },
  {
   "cell_type": "markdown",
   "id": "4d1f1f43-df11-4283-a628-1306e0ec8240",
   "metadata": {},
   "source": [
    "## 5. Describe the methods and tools available in Python for safely sharing data between threads and processes."
   ]
  },
  {
   "cell_type": "markdown",
   "id": "f5a2b559-0a11-4f71-9ba4-c848a46c3f0f",
   "metadata": {},
   "source": [
    "*) Python offers several tools for safely sharing data between threads and processes, ensuring synchronization and preventing race conditions.\n",
    "\n",
    "*)For Threads (in threading module):\n",
    "\n",
    "Lock: Ensures only one thread accesses shared data at a time.\n",
    "\n",
    "RLock: A reentrant lock allowing the same thread to acquire it multiple times.\n",
    "\n",
    "Condition: Allows threads to wait for specific conditions before proceeding.\n",
    "\n",
    "Event: Used for signaling between threads.\n",
    "\n",
    "Semaphore: Limits the number of threads that can access a resource concurrently.\n",
    "\n",
    "Queue: Thread-safe queue for sharing data without manual locking.\n",
    "\n",
    "*) For Processes (in multiprocessing module):\n",
    "\n",
    "Queue: Process-safe queue for inter-process communication.\n",
    "\n",
    "Pipe: Enables two-way communication between processes.\n",
    "\n",
    "Value and Array: Share basic data types and arrays in shared memory.\n",
    "\n",
    "Manager: Provides shared lists, dictionaries, etc., across processes.\n",
    "\n",
    "Lock: Prevents multiple processes from accessing shared resources simultaneously.\n",
    "\n",
    "These tools ensure data integrity when sharing resources in both multithreading and multiprocessing environments."
   ]
  },
  {
   "cell_type": "markdown",
   "id": "1655c5cf-51cf-4e11-8a60-aac93067fd0c",
   "metadata": {},
   "source": [
    "## 6. Discuss why it’s crucial to handle exceptions in concurrent programs and the techniques available for doing so."
   ]
  },
  {
   "cell_type": "markdown",
   "id": "eb598325-decf-4499-8f34-f75f92def419",
   "metadata": {},
   "source": [
    "*) Handling exceptions in concurrent programs is critical to avoid crashes, resource leaks, data corruption, and deadlocks. Key techniques include:\n",
    "\n",
    "*) Try-Except Blocks: Catch exceptions in threads/processes.\n",
    "1) Queues: Pass exceptions between threads/processes using a thread-safe queue.\n",
    "2) concurrent.futures: Automatically propagate exceptions with ThreadPoolExecutor and ProcessPoolExecutor.\n",
    "3) Finally Block: Ensure proper cleanup (e.g., releasing locks).\n",
    "4) Logging: Record exceptions for later debugging.\n",
    "5) These methods help maintain stability and ensure safe resource management in concurrent programs."
   ]
  },
  {
   "cell_type": "markdown",
   "id": "af8adc6f-fe41-472f-904b-3d21f6983acf",
   "metadata": {},
   "source": [
    "## 7. Create a program that uses a thread pool to calculate the factorial of numbers from 1 to 10 concurrently. Use concurrent.futures.ThreadPoolExecutor to manage the threads."
   ]
  },
  {
   "cell_type": "code",
   "execution_count": 2,
   "id": "0abf47d2-3f6f-4237-9b26-0fe92aca4eb2",
   "metadata": {},
   "outputs": [
    {
     "name": "stdout",
     "output_type": "stream",
     "text": [
      "Calculating factorial of 1\n",
      "Calculating factorial of 2\n",
      "Calculating factorial of 3\n",
      "Calculating factorial of 4\n",
      "Calculating factorial of 5\n",
      "Calculating factorial of 6\n",
      "Calculating factorial of 7\n",
      "Calculating factorial of 8\n",
      "Calculating factorial of 9\n",
      "Calculating factorial of 10\n",
      "Factorial of 1 is 1\n",
      "Factorial of 2 is 2\n",
      "Factorial of 3 is 6\n",
      "Factorial of 4 is 24\n",
      "Factorial of 5 is 120\n",
      "Factorial of 6 is 720\n",
      "Factorial of 7 is 5040\n",
      "Factorial of 8 is 40320\n",
      "Factorial of 9 is 362880\n",
      "Factorial of 10 is 3628800\n"
     ]
    }
   ],
   "source": [
    "from concurrent.futures import ThreadPoolExecutor\n",
    "import math\n",
    "\n",
    "# Function to calculate factorial\n",
    "def factorial(n):\n",
    "    print(f\"Calculating factorial of {n}\")\n",
    "    return math.factorial(n)\n",
    "\n",
    "# List of numbers from 1 to 10\n",
    "numbers = range(1, 11)\n",
    "\n",
    "# Using ThreadPoolExecutor to manage threads\n",
    "with ThreadPoolExecutor() as executor:\n",
    "    # Submit tasks to the thread pool and collect the results\n",
    "    results = list(executor.map(factorial, numbers))\n",
    "\n",
    "# Print the results\n",
    "for num, result in zip(numbers, results):\n",
    "    print(f\"Factorial of {num} is {result}\")\n"
   ]
  },
  {
   "cell_type": "markdown",
   "id": "d20f3c31-074d-4838-9d10-1ff4132a4ca6",
   "metadata": {},
   "source": [
    "## 8. Create a Python program that uses multiprocessing.Pool to compute the square of numbers from 1 to 10 in parallel. Measure the time taken to perform this computation using a pool of different sizes (e.g., 2, 4, 8 processes)."
   ]
  },
  {
   "cell_type": "code",
   "execution_count": 3,
   "id": "42447502-a4a3-47b5-8d7f-a5310226017b",
   "metadata": {},
   "outputs": [
    {
     "name": "stdout",
     "output_type": "stream",
     "text": [
      "Using pool size: 2\n",
      "Results: [1, 4, 9, 16, 25, 36, 49, 64, 81, 100]\n",
      "Time taken: 0.0273 seconds\n",
      "\n",
      "Using pool size: 4\n",
      "Results: [1, 4, 9, 16, 25, 36, 49, 64, 81, 100]\n",
      "Time taken: 0.0385 seconds\n",
      "\n",
      "Using pool size: 8\n",
      "Results: [1, 4, 9, 16, 25, 36, 49, 64, 81, 100]\n",
      "Time taken: 0.0642 seconds\n",
      "\n"
     ]
    }
   ],
   "source": [
    "import multiprocessing\n",
    "import time\n",
    "\n",
    "# Function to compute the square of a number\n",
    "def square(n):\n",
    "    return n * n\n",
    "\n",
    "# List of numbers from 1 to 10\n",
    "numbers = list(range(1, 11))\n",
    "\n",
    "def compute_squares(pool_size):\n",
    "    print(f\"Using pool size: {pool_size}\")\n",
    "    start_time = time.time()\n",
    "    \n",
    "    with multiprocessing.Pool(pool_size) as pool:\n",
    "        results = pool.map(square, numbers)\n",
    "    \n",
    "    end_time = time.time()\n",
    "    print(f\"Results: {results}\")\n",
    "    print(f\"Time taken: {end_time - start_time:.4f} seconds\\n\")\n",
    "\n",
    "# Test with different pool sizes\n",
    "for pool_size in [2, 4, 8]:\n",
    "    compute_squares(pool_size)\n"
   ]
  },
  {
   "cell_type": "code",
   "execution_count": null,
   "id": "db451ec3-494a-4d4b-98c8-1f2eb139df85",
   "metadata": {},
   "outputs": [],
   "source": []
  }
 ],
 "metadata": {
  "kernelspec": {
   "display_name": "Python 3 (ipykernel)",
   "language": "python",
   "name": "python3"
  },
  "language_info": {
   "codemirror_mode": {
    "name": "ipython",
    "version": 3
   },
   "file_extension": ".py",
   "mimetype": "text/x-python",
   "name": "python",
   "nbconvert_exporter": "python",
   "pygments_lexer": "ipython3",
   "version": "3.10.8"
  }
 },
 "nbformat": 4,
 "nbformat_minor": 5
}
